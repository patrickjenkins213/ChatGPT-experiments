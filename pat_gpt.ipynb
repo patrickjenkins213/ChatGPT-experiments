{
 "cells": [
  {
   "cell_type": "markdown",
   "id": "8bc3c8b4-7283-4fb3-8c1f-7c783751d8ba",
   "metadata": {},
   "source": [
    "# Fine-tuning a ChatGPT model to act as me during an interview\n",
    "\n",
    "ChatGPT fine-tuning can be used to augment a Large Language Model (LLM) to perform tasks, respond in a specified tone or style, and to reliably reproduce output. In this notebook I experiment with fine-tuning a model to answer common interview questions as if I were answering the questions.\n",
    "\n",
    "To learn more you can visit [OpenAI's guide on fine-tuning](https://platform.openai.com/docs/guides/fine-tuning)."
   ]
  },
  {
   "cell_type": "markdown",
   "id": "ed60847e-07b9-4111-8468-3d57d3a41650",
   "metadata": {},
   "source": [
    "## Before fine-tuning"
   ]
  },
  {
   "cell_type": "code",
   "execution_count": null,
   "id": "ed788ab9-0ad0-4894-891e-88099a8d06e2",
   "metadata": {},
   "outputs": [],
   "source": [
    "from openai import OpenAI\n",
    "\n",
    "client = OpenAI()"
   ]
  },
  {
   "cell_type": "code",
   "execution_count": null,
   "id": "fba9499a-5ab1-4ed7-85b3-b8090fdde310",
   "metadata": {},
   "outputs": [],
   "source": [
    "completion = client.chat.completions.create(\n",
    "  model=\"gpt-3.5-turbo\",\n",
    "  messages=[\n",
    "    {\"role\": \"system\", \"content\": \"You are a candidate for a job as a Senior Machine Learning Engineer.\"},\n",
    "    {\"role\": \"user\", \"content\": \"What is your favorite programming language?\"},\n",
    "  ]\n",
    ")\n",
    "\n",
    "completion.choices[0].message.content"
   ]
  },
  {
   "cell_type": "markdown",
   "id": "d6c5bfe5-1392-46f9-80a0-5c191b719b97",
   "metadata": {},
   "source": [
    "## Load the training data and start a fine-tuning job"
   ]
  },
  {
   "cell_type": "code",
   "execution_count": null,
   "id": "c2b1758f-5874-4b34-9131-400308fd0cfb",
   "metadata": {},
   "outputs": [],
   "source": [
    "training_data = \"training.jsonl\"\n",
    "suffix = \"pat-gpt\"\n",
    "hyperparameters = {\n",
    "    \"n_epochs\": 2\n",
    "}\n",
    "\n",
    "file = client.files.create(\n",
    "    file=open(training_data, \"rb\"),\n",
    "    purpose=\"fine-tune\"\n",
    ")\n",
    "\n",
    "client.fine_tuning.jobs.create(\n",
    "    training_file=file.id,\n",
    "    model=\"gpt-3.5-turbo\",\n",
    "    suffix=suffix,\n",
    "    #hyperparameters=hyperparameters\n",
    ")"
   ]
  },
  {
   "cell_type": "code",
   "execution_count": null,
   "id": "88e84c3e-85a0-420e-866e-64475b97ab3e",
   "metadata": {},
   "outputs": [],
   "source": [
    "client.fine_tuning.jobs.list()"
   ]
  },
  {
   "cell_type": "markdown",
   "id": "c64287b4-e859-41c8-a8ce-4b84b181a4db",
   "metadata": {},
   "source": [
    "## After fine-tuning"
   ]
  },
  {
   "cell_type": "code",
   "execution_count": null,
   "id": "5043ca7a-e06f-4cb3-a830-2cb347779b2c",
   "metadata": {},
   "outputs": [],
   "source": [
    "completion = client.chat.completions.create(\n",
    "  model=\"ft:gpt-3.5-turbo-0125:personal:pat-gpt:9377ZXyY\",\n",
    "  messages=[\n",
    "    {\"role\": \"system\", \"content\": \"You are a candidate for a job as a Senior Machine Learning Engineer.\"},\n",
    "    {\"role\": \"user\", \"content\": \"Can you tell me about yourself?\"}\n",
    "  ]\n",
    ")\n",
    "\n",
    "completion.choices[0].message.content"
   ]
  }
 ],
 "metadata": {
  "kernelspec": {
   "display_name": "Python 3 (ipykernel)",
   "language": "python",
   "name": "python3"
  },
  "language_info": {
   "codemirror_mode": {
    "name": "ipython",
    "version": 3
   },
   "file_extension": ".py",
   "mimetype": "text/x-python",
   "name": "python",
   "nbconvert_exporter": "python",
   "pygments_lexer": "ipython3",
   "version": "3.10.1"
  }
 },
 "nbformat": 4,
 "nbformat_minor": 5
}
