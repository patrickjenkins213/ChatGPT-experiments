{
 "cells": [
  {
   "cell_type": "markdown",
   "id": "8bc3c8b4-7283-4fb3-8c1f-7c783751d8ba",
   "metadata": {},
   "source": [
    "# Fine-tuning a ChatGPT model for classification\n",
    "\n",
    "ChatGPT fine-tuning can be used to augment a Large Language Model (LLM) to perform tasks, respond in a specified tone or style, and to reliably reproduce output. In this notebook I experiment with fine-tuning a model to act as a classifer for the MNIST dataset.\n",
    "\n",
    "To learn more you can visit [OpenAI's guide on fine-tuning](https://platform.openai.com/docs/guides/fine-tuning)."
   ]
  },
  {
   "cell_type": "markdown",
   "id": "5514bdeb-ee22-476b-9dc8-a275e9493fc5",
   "metadata": {},
   "source": [
    "## Load the client and format the data"
   ]
  },
  {
   "cell_type": "code",
   "execution_count": null,
   "id": "ed788ab9-0ad0-4894-891e-88099a8d06e2",
   "metadata": {},
   "outputs": [],
   "source": [
    "from openai import OpenAI\n",
    "\n",
    "import json\n",
    "\n",
    "client = OpenAI()\n",
    "num_train = 500\n",
    "num_validation = 100\n",
    "\n",
    "with open(\"mnist_train.csv\", \"r\") as fin, open(\"mnist_train.jsonl\", \"w\") as fout:\n",
    "    count = 0\n",
    "    header = fin.readline()\n",
    "    for line in fin:\n",
    "        if count >= num_train:\n",
    "            break\n",
    "        label, image = line.split(\",\")[0], line.split(\",\")[1:]\n",
    "        # each image is 28 x 28 pixels\n",
    "        image_prompts = [{\"role\": \"user\", \"content\": \" \".join(image[i * 28:(i * 28) + 28])} for i in range(0, 28)]\n",
    "        messages = [{\"role\": \"system\", \"content\": \"You are an MNIST classification system.\"}] +  image_prompts + [{\"role\": \"assistant\", \"content\": label}]\n",
    "        fout.write(json.dumps({\"messages\": messages}) + \"\\n\")\n",
    "        count += 1\n",
    "\n",
    "with open(\"mnist_test.csv\", \"r\") as fin, open(\"mnist_test.jsonl\", \"w\") as fout:\n",
    "    count = 0\n",
    "    header = fin.readline()\n",
    "    for line in fin:\n",
    "        if count >= num_validation:\n",
    "            break\n",
    "        label, image = line.split(\",\")[0], line.split(\",\")[1:]\n",
    "        # each image is 28 x 28 pixels\n",
    "        image_prompts = [{\"role\": \"user\", \"content\": \" \".join(image[i * 28:(i * 28) + 28])} for i in range(0, 28)]\n",
    "        messages = [{\"role\": \"system\", \"content\": \"You are an MNIST classification system.\"}] +  image_prompts + [{\"role\": \"assistant\", \"content\": label}]\n",
    "        fout.write(json.dumps({\"messages\": messages}) + \"\\n\")\n",
    "        count += 1"
   ]
  },
  {
   "cell_type": "markdown",
   "id": "ed60847e-07b9-4111-8468-3d57d3a41650",
   "metadata": {},
   "source": [
    "## Before fine-tuning"
   ]
  },
  {
   "cell_type": "code",
   "execution_count": null,
   "id": "fba9499a-5ab1-4ed7-85b3-b8090fdde310",
   "metadata": {},
   "outputs": [],
   "source": [
    "with open(\"mnist_test.jsonl\", \"r\") as fin:\n",
    "    data = json.loads(fin.readline())[\"messages\"]\n",
    "    messages, label = data[:-1], data[-1]\n",
    "\n",
    "completion = client.chat.completions.create(\n",
    "  model=\"gpt-3.5-turbo\",\n",
    "  messages=messages\n",
    ")\n",
    "\n",
    "completion.choices[0].message.content"
   ]
  },
  {
   "cell_type": "markdown",
   "id": "d6c5bfe5-1392-46f9-80a0-5c191b719b97",
   "metadata": {},
   "source": [
    "## Load the training data and start a fine-tuning job"
   ]
  },
  {
   "cell_type": "code",
   "execution_count": null,
   "id": "c2b1758f-5874-4b34-9131-400308fd0cfb",
   "metadata": {},
   "outputs": [],
   "source": [
    "training_data = \"mnist_train.jsonl\"\n",
    "validation_data = \"mnist_test.jsonl\"\n",
    "suffix = \"pat-mnist\"\n",
    "hyperparameters = {\n",
    "    \"n_epochs\": 2\n",
    "}\n",
    "\n",
    "training_file = client.files.create(\n",
    "    file=open(training_data, \"rb\"),\n",
    "    purpose=\"fine-tune\"\n",
    ")\n",
    "\n",
    "validation_file = client.files.create(\n",
    "    file=open(validation_data, \"rb\"),\n",
    "    purpose=\"fine-tune\"\n",
    ")\n",
    "\n",
    "client.fine_tuning.jobs.create(\n",
    "    training_file=training_file.id,\n",
    "    model=\"gpt-3.5-turbo\",\n",
    "    suffix=suffix,\n",
    "    validation_file=validation_file.id,\n",
    "    #hyperparameters=hyperparameters\n",
    ")"
   ]
  },
  {
   "cell_type": "markdown",
   "id": "095a7fa2-00a0-4464-b30b-957ce4d52414",
   "metadata": {},
   "source": [
    "![A graph within the OpenAI UI that shows real time loss for both the training and validation sets as a function of training examples.](mnist_training.png)\n",
    "\n",
    "We can watch the progress of our training in the Fine-Tuning tab in the OpenAI UI."
   ]
  },
  {
   "cell_type": "code",
   "execution_count": null,
   "id": "88e84c3e-85a0-420e-866e-64475b97ab3e",
   "metadata": {},
   "outputs": [],
   "source": [
    "client.fine_tuning.jobs.list()"
   ]
  },
  {
   "cell_type": "code",
   "execution_count": null,
   "id": "f07e4ef3-95d0-4edf-9982-2abeacec69e5",
   "metadata": {},
   "outputs": [],
   "source": [
    "results_out = \"fine_tuning_results.txt\"\n",
    "\n",
    "job = client.fine_tuning.jobs.retrieve(\"ftjob-wK04n1fJ89OEXT2CVKChiD71\")\n",
    "results_data = client.files.content(job.result_files[0]).read()\n",
    "with open(results_out, \"wb\") as fout:\n",
    "    fout.write(results_data)"
   ]
  },
  {
   "cell_type": "markdown",
   "id": "c64287b4-e859-41c8-a8ce-4b84b181a4db",
   "metadata": {},
   "source": [
    "## After fine-tuning"
   ]
  },
  {
   "cell_type": "code",
   "execution_count": null,
   "id": "5043ca7a-e06f-4cb3-a830-2cb347779b2c",
   "metadata": {},
   "outputs": [],
   "source": [
    "with open(\"mnist_test.jsonl\", \"r\") as fin:\n",
    "    data = json.loads(fin.readline())[\"messages\"]\n",
    "    messages, label = data[:-1], data[-1]\n",
    "\n",
    "completion = client.chat.completions.create(\n",
    "  model=\"ft:gpt-3.5-turbo-0125:personal:pat-mnist:949vlUXK\",\n",
    "  messages=messages\n",
    ")\n",
    "\n",
    "print(label[\"content\"])\n",
    "completion.choices[0].message.content"
   ]
  }
 ],
 "metadata": {
  "kernelspec": {
   "display_name": "Python 3 (ipykernel)",
   "language": "python",
   "name": "python3"
  },
  "language_info": {
   "codemirror_mode": {
    "name": "ipython",
    "version": 3
   },
   "file_extension": ".py",
   "mimetype": "text/x-python",
   "name": "python",
   "nbconvert_exporter": "python",
   "pygments_lexer": "ipython3",
   "version": "3.10.1"
  }
 },
 "nbformat": 4,
 "nbformat_minor": 5
}
